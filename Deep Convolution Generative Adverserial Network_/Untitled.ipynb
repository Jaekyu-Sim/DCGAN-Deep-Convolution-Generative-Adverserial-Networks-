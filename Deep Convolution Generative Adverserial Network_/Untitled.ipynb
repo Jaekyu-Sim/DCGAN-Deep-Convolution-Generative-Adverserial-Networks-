{
 "cells": [
  {
   "cell_type": "code",
   "execution_count": 1,
   "metadata": {},
   "outputs": [
    {
     "name": "stderr",
     "output_type": "stream",
     "text": [
      "C:\\Users\\JAEKYU\\Anaconda3\\lib\\site-packages\\h5py\\__init__.py:36: FutureWarning: Conversion of the second argument of issubdtype from `float` to `np.floating` is deprecated. In future, it will be treated as `np.float64 == np.dtype(float).type`.\n",
      "  from ._conv import register_converters as _register_converters\n"
     ]
    },
    {
     "name": "stdout",
     "output_type": "stream",
     "text": [
      "WARNING:tensorflow:From <ipython-input-1-37965886b198>:3: read_data_sets (from tensorflow.contrib.learn.python.learn.datasets.mnist) is deprecated and will be removed in a future version.\n",
      "Instructions for updating:\n",
      "Please use alternatives such as official/mnist/dataset.py from tensorflow/models.\n",
      "WARNING:tensorflow:From C:\\Users\\JAEKYU\\Anaconda3\\lib\\site-packages\\tensorflow\\contrib\\learn\\python\\learn\\datasets\\mnist.py:260: maybe_download (from tensorflow.contrib.learn.python.learn.datasets.base) is deprecated and will be removed in a future version.\n",
      "Instructions for updating:\n",
      "Please write your own downloading logic.\n",
      "WARNING:tensorflow:From C:\\Users\\JAEKYU\\Anaconda3\\lib\\site-packages\\tensorflow\\contrib\\learn\\python\\learn\\datasets\\mnist.py:262: extract_images (from tensorflow.contrib.learn.python.learn.datasets.mnist) is deprecated and will be removed in a future version.\n",
      "Instructions for updating:\n",
      "Please use tf.data to implement this functionality.\n",
      "Extracting MNIST_data/train-images-idx3-ubyte.gz\n",
      "WARNING:tensorflow:From C:\\Users\\JAEKYU\\Anaconda3\\lib\\site-packages\\tensorflow\\contrib\\learn\\python\\learn\\datasets\\mnist.py:267: extract_labels (from tensorflow.contrib.learn.python.learn.datasets.mnist) is deprecated and will be removed in a future version.\n",
      "Instructions for updating:\n",
      "Please use tf.data to implement this functionality.\n",
      "Extracting MNIST_data/train-labels-idx1-ubyte.gz\n",
      "WARNING:tensorflow:From C:\\Users\\JAEKYU\\Anaconda3\\lib\\site-packages\\tensorflow\\contrib\\learn\\python\\learn\\datasets\\mnist.py:110: dense_to_one_hot (from tensorflow.contrib.learn.python.learn.datasets.mnist) is deprecated and will be removed in a future version.\n",
      "Instructions for updating:\n",
      "Please use tf.one_hot on tensors.\n",
      "Extracting MNIST_data/t10k-images-idx3-ubyte.gz\n",
      "Extracting MNIST_data/t10k-labels-idx1-ubyte.gz\n",
      "WARNING:tensorflow:From C:\\Users\\JAEKYU\\Anaconda3\\lib\\site-packages\\tensorflow\\contrib\\learn\\python\\learn\\datasets\\mnist.py:290: DataSet.__init__ (from tensorflow.contrib.learn.python.learn.datasets.mnist) is deprecated and will be removed in a future version.\n",
      "Instructions for updating:\n",
      "Please use alternatives such as official/mnist/dataset.py from tensorflow/models.\n"
     ]
    }
   ],
   "source": [
    "import tensorflow as tf\n",
    "from tensorflow.examples.tutorials.mnist import input_data\n",
    "mnist = input_data.read_data_sets(\"MNIST_data/\", one_hot=True)\n",
    "import numpy as np\n",
    "import matplotlib.pyplot as plt\n",
    "from scipy import misc"
   ]
  },
  {
   "cell_type": "code",
   "execution_count": 2,
   "metadata": {},
   "outputs": [],
   "source": [
    "def make_noise_vector(batch_size, noise_size):\n",
    "    noise_vector = np.random.normal(size=(batch_size, noise_size))\n",
    "    return noise_vector"
   ]
  },
  {
   "cell_type": "code",
   "execution_count": 3,
   "metadata": {
    "scrolled": false
   },
   "outputs": [
    {
     "name": "stdout",
     "output_type": "stream",
     "text": [
      "model\n"
     ]
    }
   ],
   "source": [
    "class DCGAN(object):\n",
    "    def __init__(self, sess, batch_size):\n",
    "        self.sess = sess\n",
    "        self.batch_size = batch_size\n",
    "        self.input_channel = 1\n",
    "        self.noise_size = 100\n",
    "        self.input_width = 28\n",
    "        self.input_height = 28\n",
    "        self.parameter()\n",
    "        self.model()\n",
    "        #self.generator()\n",
    "        #self.discriminator()\n",
    "        \n",
    "    def parameter(self):\n",
    "        #input parameter\n",
    "        self.X = tf.placeholder(dtype=tf.float32, shape=[None, self.input_width, self.input_height, self.input_channel])\n",
    "        self.Z = tf.placeholder(dtype=tf.float32, shape=[None, self.noise_size])\n",
    "                \n",
    "\n",
    "    def generator(self, noise):\n",
    "        with tf.variable_scope(\"generator_\", reuse = tf.AUTO_REUSE):#tensorboard 추가\n",
    "            noise = tf.convert_to_tensor(noise)\n",
    "            noise = tf.layers.dense(inputs=noise, units = 7*7*1024, bias_initializer = tf.random_normal_initializer())\n",
    "            noise = tf.reshape(noise, [-1, 7, 7, 1024])#7,7,1024\n",
    "            noise = tf.layers.batch_normalization(inputs = noise)\n",
    "            \n",
    "            L1 = tf.layers.conv2d_transpose(noise, 256, [4, 4], strides=(2, 2), padding=\"SAME\")#14,14,256\n",
    "            #print(np.shape(L1))\n",
    "            L1 = tf.layers.batch_normalization(inputs = L1)\n",
    "            Y1 = tf.nn.relu(L1)\n",
    "\n",
    "            L2 = tf.layers.conv2d_transpose(Y1, self.input_channel, [4, 4], strides=(2, 2), padding=\"SAME\")#28,28,1\n",
    "            #print(np.shape(L2))\n",
    "            L2 = tf.layers.batch_normalization(inputs = L2)\n",
    "\n",
    "            self.model_G= tf.nn.tanh(L2)\n",
    "            \n",
    "            return self.model_G\n",
    "    \n",
    "    def discriminator(self, input_data):\n",
    "        with tf.variable_scope(\"discriminator_\", reuse = tf.AUTO_REUSE):\n",
    "            L1 = tf.layers.conv2d(input_data, 128, [5, 5], strides=(2, 2), padding=\"SAME\")#28,28,1 -> 14,14,128\n",
    "            #print(np.shape(L1))\n",
    "            L1 = tf.layers.batch_normalization(inputs = L1)\n",
    "            Y1 = tf.nn.leaky_relu(L1)\n",
    "\n",
    "            L2 = tf.layers.conv2d(Y1, 256, [5, 5], strides=(2, 2), padding=\"SAME\")#14,14,128 -> 7,7,256\n",
    "            #print(np.shape(L2))\n",
    "            L2 = tf.layers.batch_normalization(inputs = L2)\n",
    "            Y2 = tf.nn.leaky_relu(L2)\n",
    "\n",
    "            L3 = tf.layers.conv2d(Y2, 512, [5, 5], strides=(2, 2), padding=\"SAME\")#7,7,256 -> 4,4,512\n",
    "            #print(np.shape(L3))\n",
    "            L3 = tf.layers.batch_normalization(inputs = L3)\n",
    "            Y3 = tf.nn.leaky_relu(L3)\n",
    "\n",
    "            L4 = tf.layers.conv2d(Y3, 1, [5, 5], strides=(2, 2), padding=\"SAME\")#3,3,512 -> 2,2,1\n",
    "            #print(np.shape(L4))\n",
    "            L4 = tf.layers.batch_normalization(inputs = L4)\n",
    "            Y4 = tf.nn.leaky_relu(L4)\n",
    "            \n",
    "            L5 = tf.layers.conv2d(Y4, 1, [5, 5], strides=(2, 2), padding=\"SAME\")#2,2,1 -> 1,1,1\n",
    "            #print(np.shape(L5))\n",
    "            L5 = tf.layers.batch_normalization(inputs = L5)\n",
    "\n",
    "            self.model_D = tf.nn.sigmoid(L5)\n",
    "            #self.d_variables = tf.get_collection(tf.GraphKeys.TRAINABLE_VARIABLES, scope = 'd')\n",
    "\n",
    "            return self.model_D\n",
    "\n",
    "    def model(self):\n",
    "        with tf.name_scope(\"models\") as scope:\n",
    "            self.G = self.generator(self.Z)\n",
    "            self.D_fake = self.discriminator(self.G)\n",
    "            self.D_real = self.discriminator(self.X)\n",
    "            \n",
    "            self.cost_D = tf.reduce_mean(tf.log(self.D_real) + tf.log(1-self.D_fake))#maximize\n",
    "            self.cost_G = tf.reduce_mean(tf.log(1-self.D_fake))#minimize\n",
    "            \n",
    "            self.t_vars = tf.get_collection(tf.GraphKeys.TRAINABLE_VARIABLES)\n",
    "            \n",
    "            self.d_vars = [var for var in self.t_vars if var.name.startswith(\"dis\")]\n",
    "            self.g_vars = [var for var in self.t_vars if var.name.startswith(\"gen\")]\n",
    "            \n",
    "            self.Optimize_D = tf.train.AdamOptimizer(learning_rate=0.00002).minimize(-self.cost_D, \\\n",
    "                                                var_list = self.d_vars)\n",
    "            self.Optimize_G = tf.train.AdamOptimizer(learning_rate=0.00002).minimize(self.cost_G, \\\n",
    "                                                var_list = self.g_vars)\n",
    "            \n",
    "            D_cost = tf.summary.scalar(\"d_cost\", self.cost_D)#tensorboard 추가\n",
    "            G_cost = tf.summary.scalar(\"g_cost\", self.cost_G)#tensorboard 추가\n",
    "            \n",
    "            #D_opt = tf.summary.scalar(\"d_opt\", self.Optimize_D)#tensorboard 추가\n",
    "            #G_opt = tf.summary.scalar(\"g_opt\", self.Optimize_G)#tensorboard 추가\n",
    "\n",
    "    def training(self, is_training):\n",
    "        merged_summary = tf.summary.merge_all()#tensorboard 추가\n",
    "        writer = tf.summary.FileWriter(\"C:/Users/JAEKYU/Documents/log_simple_states\")#tensorboard 추가\n",
    "        writer.add_graph(self.sess.graph)#tensorboard 추가\n",
    "        data_size = 55000\n",
    "        total_batch = int(data_size / self.batch_size)\n",
    "        SAVE_PATH = \"C:/Users\\JAEKYU/Documents/Jupyter Notebook/Deep Convolution Generative Adverserial Network/Weight/Weight.ckpt\"   \n",
    "        print(\"Session start\")\n",
    "        \n",
    "        self.sess.run(tf.global_variables_initializer())\n",
    "        saver = tf.train.Saver()\n",
    "        \n",
    "        if(not is_training):\n",
    "            saver.restore(self.sess, SAVE_PATH)\n",
    "            print(\"weight 값 load 끝~\")\n",
    "            noise_data = make_noise_vector(1, 100)\n",
    "            predict = self.sess.run(self.G, feed_dict={self.Z : noise_data})#1, 28, 28, 1\n",
    "            predict_0 = predict[0]#28, 28, 1\n",
    "            predict_0 = predict_0.reshape(28, 28)\n",
    "            print(np.shape(predict_0))\n",
    "            #predict = predict[0].reshape(28, 28)\n",
    "            plt.imshow(predict_0)\n",
    "            plt.show()\n",
    "            #print(np.shape(predict))\n",
    "\n",
    "            decision = self.sess.run(self.D_fake, feed_dict={self.G : predict})\n",
    "            print(decision)\n",
    "            \n",
    "            input_ = mnist.train.next_batch(batch_size=self.batch_size)[0]#32,784\n",
    "            input_ = input_[0].reshape(-1, self.input_width, self.input_height, self.input_channel)\n",
    "            decision2 = self.sess.run(self.D_real, feed_dict={self.X : input_})\n",
    "            print(decision2)\n",
    "            \n",
    "        else:\n",
    "            for epoch in range(70):\n",
    "                #saver.restore(self.sess, SAVE_PATH)\n",
    "                for i in range(total_batch):\n",
    "                    #batch 만들기\n",
    "                    batch_X = mnist.train.next_batch(batch_size=self.batch_size)[0]#32,784\n",
    "                    batch_X = batch_X.reshape(-1, self.input_width, self.input_height, self.input_channel)\n",
    "                    batch_Z = make_noise_vector(self.batch_size, self.noise_size)#-1,100\n",
    "                    \n",
    "                    Opt_G, cost_G = self.sess.run([self.Optimize_G, self.cost_G], feed_dict={self.Z : batch_Z})\n",
    "                    Opt_D, cost_D, summary = self.sess.run([self.Optimize_D, self.cost_D, merged_summary], feed_dict={self.X : batch_X, self.Z : batch_Z})#tensorboard 추가\n",
    "                    writer.add_summary(summary, global_step = epoch*total_batch + i)#tensorboard 추가\n",
    "                print(\"epoch : \", epoch, \", gen_cost : \", cost_G, \", dis_cost : \", cost_D)\n",
    "                saver.save(self.sess, SAVE_PATH)\n",
    "                \n",
    "                \n",
    "                \n",
    "                noise_data = make_noise_vector(self.batch_size, self.noise_size)#-1 x 100\n",
    "                samples = 255*self.sess.run(self.G, feed_dict={self.Z : noise_data})\n",
    "                samples = np.clip(samples, 0, 255).astype(np.uint8)\n",
    "                buffer = samples[0].reshape(28,28)\n",
    "                misc.imsave(\"./save/%d.jpg\" %epoch, buffer)\n",
    "                #print(buffer)\n",
    "                fig, ax = plt.subplots(1, 1, figsize=(1, 1))\n",
    "                ax.set_axis_off()\n",
    "                ax.imshow(buffer)\n",
    "                fig.show()\n",
    "                plt.draw()\n",
    "                plt.show()\n",
    "                \n",
    "    def testing(self):\n",
    "        noise_data = make_noise_vector(self.batch_size, self.noise_size)#-1 x 100\n",
    "        samples = self.sess.run(self.G, feed_dict={self.Z : noise_data})\n",
    "        buffer = samples[0].reshape(28,28)\n",
    "        print(np.shape(buffer))\n",
    "        fig, ax = plt.subplots(1, 1, figsize=(1, 1))\n",
    "        #for j in range(self.batch_size):\n",
    "        ax.set_axis_off()\n",
    "        ax.imshow(buffer)\n",
    "        #fig.show()\n",
    "        #plt.draw()\n",
    "        #plt.show()\n",
    "    \n",
    "print(\"model\")"
   ]
  },
  {
   "cell_type": "code",
   "execution_count": 4,
   "metadata": {
    "scrolled": false
   },
   "outputs": [
    {
     "name": "stdout",
     "output_type": "stream",
     "text": [
      "Session start\n",
      "INFO:tensorflow:Restoring parameters from C:/Users\\JAEKYU/Documents/Jupyter Notebook/Deep Convolution Generative Adverserial Network/Weight/Weight.ckpt\n",
      "weight 값 load 끝~\n",
      "(28, 28)\n"
     ]
    },
    {
     "data": {
      "image/png": "[encoded data removed]",
      "text/plain": [
       "<matplotlib.figure.Figure at 0x28ffc3b75c0>"
      ]
     },
     "metadata": {},
     "output_type": "display_data"
    },
    {
     "name": "stdout",
     "output_type": "stream",
     "text": [
      "[[[[0.00046023]]]]\n",
      "[[[[1.]]]]\n"
     ]
    }
   ],
   "source": [
    "with tf.Session() as sess:\n",
    "    dcgan_object = DCGAN(sess=sess, batch_size=64)\n",
    "    dcgan_object.training(False)#False load Weight/ True made Weight\n",
    "    #dcgan_object.testing()\n",
    "    "
   ]
  },
  {
   "cell_type": "code",
   "execution_count": null,
   "metadata": {},
   "outputs": [],
   "source": [
    "#Data Load--------------------------------------------------------------------------------------\n",
    "img_data = [None]\n",
    "\n",
    "\n",
    "img_data = misc.imread(\"./save/6.jpg\")\n",
    "print(img_data)"
   ]
  },
  {
   "cell_type": "code",
   "execution_count": null,
   "metadata": {},
   "outputs": [],
   "source": []
  }
 ],
 "metadata": {
  "kernelspec": {
   "display_name": "Python 3",
   "language": "python",
   "name": "python3"
  },
  "language_info": {
   "codemirror_mode": {
    "name": "ipython",
    "version": 3
   },
   "file_extension": ".py",
   "mimetype": "text/x-python",
   "name": "python",
   "nbconvert_exporter": "python",
   "pygments_lexer": "ipython3",
   "version": "3.6.4"
  }
 },
 "nbformat": 4,
 "nbformat_minor": 2
}
